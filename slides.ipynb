{
 "cells": [
  {
   "cell_type": "code",
   "execution_count": null,
   "id": "a972db0a-2095-4c8a-9889-7b1739674a73",
   "metadata": {
    "editable": true,
    "slideshow": {
     "slide_type": ""
    },
    "tags": []
   },
   "outputs": [],
   "source": []
  },
  {
   "cell_type": "markdown",
   "id": "4be0eb8a-f8c0-42b2-8eaa-f27801962cf8",
   "metadata": {
    "jp-MarkdownHeadingCollapsed": true
   },
   "source": [
    "# AI\n",
    "\n",
    "* meaning \"artificial intelligence\"\n",
    "* is a term that the computer scientist John McCarthy used at the Dartmouth Conference 1956.\n",
    "* It's really just a term to make the field sound more interesting.\n",
    "* Until today all, so-called AI-systems are simply based on pattern recognition by statistics\n",
    "* I wouldn't know of a good model for human intelligence, or even a definition. "
   ]
  },
  {
   "cell_type": "code",
   "execution_count": null,
   "id": "8c63234c-247d-4919-8d50-ce02ca7fccea",
   "metadata": {},
   "outputs": [],
   "source": []
  }
 ],
 "metadata": {
  "kernelspec": {
   "display_name": "Python 3 (ipykernel)",
   "language": "python",
   "name": "python3"
  },
  "language_info": {
   "codemirror_mode": {
    "name": "ipython",
    "version": 3
   },
   "file_extension": ".py",
   "mimetype": "text/x-python",
   "name": "python",
   "nbconvert_exporter": "python",
   "pygments_lexer": "ipython3",
   "version": "3.8.10"
  }
 },
 "nbformat": 4,
 "nbformat_minor": 5
}
