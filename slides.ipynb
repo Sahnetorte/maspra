{
 "cells": [
  {
   "cell_type": "markdown",
   "id": "b6ce2688",
   "metadata": {
    "slideshow": {
     "slide_type": "slide"
    },
    "tags": []
   },
   "source": [
    "# machine learning course"
   ]
  },
  {
   "cell_type": "markdown",
   "id": "4be0eb8a-f8c0-42b2-8eaa-f27801962cf8",
   "metadata": {
    "jp-MarkdownHeadingCollapsed": true,
    "slideshow": {
     "slide_type": "slide"
    }
   },
   "source": [
    "# AI\n",
    "\n",
    "* meaning \"artificial intelligence\"\n",
    "* is a term that the computer scientist John McCarthy used at the Dartmouth Conference 1956.\n",
    "* It's really just a term to make the field sound more interesting.\n",
    "* Until today all, so-called AI-systems are simply based on pattern recognition by statistics\n",
    "* I wouldn't know of a good model for human intelligence, or even a definition. "
   ]
  },
  {
   "cell_type": "markdown",
   "id": "8c63234c-247d-4919-8d50-ce02ca7fccea",
   "metadata": {
    "slideshow": {
     "slide_type": "slide"
    }
   },
   "source": [
    "\n",
    "# Soft/weak vs. strong AI\n",
    "\n",
    "* These are terms that are often used without a clear definition \n",
    "* and they come from different traditions: \n",
    "    1) a philosophical one, meaning the difference between replicating the system vs. the signal, i.e. the allegory of the Chinese chamber; asking if someone in China not knowing Chinese who can answer Chinese questions by looking them up in a dictionary, is intelligent? \n",
    "    2) the difference between symbolic AI that works on intelligence models with expert knowledge vs. stochastic AI that uses data to detect underlying problem solving strategies  \n",
    "    3) what is usually meant in the current discussion with these terms is the distinction between a general AI that learns underlying principles to solve a number of problems, some of them even yet unknown, vs. a specialized AI that is focused on one problem, e.g. playing chess or driving a car. "
   ]
  }
 ],
 "metadata": {
  "celltoolbar": "Slideshow",
  "kernelspec": {
   "display_name": "Python 3 (ipykernel)",
   "language": "python",
   "name": "python3"
  },
  "language_info": {
   "codemirror_mode": {
    "name": "ipython",
    "version": 3
   },
   "file_extension": ".py",
   "mimetype": "text/x-python",
   "name": "python",
   "nbconvert_exporter": "python",
   "pygments_lexer": "ipython3",
   "version": "3.8.10"
  }
 },
 "nbformat": 4,
 "nbformat_minor": 5
}
