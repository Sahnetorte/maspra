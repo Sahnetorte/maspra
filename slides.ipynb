{
 "cells": [
  {
   "cell_type": "markdown",
   "id": "b6ce2688",
   "metadata": {
    "slideshow": {
     "slide_type": "slide"
    },
    "tags": []
   },
   "source": [
    "# machine learning course"
   ]
  },
  {
   "cell_type": "markdown",
   "id": "4be0eb8a-f8c0-42b2-8eaa-f27801962cf8",
   "metadata": {
    "jp-MarkdownHeadingCollapsed": true,
    "slideshow": {
     "slide_type": "slide"
    }
   },
   "source": [
    "# AI\n",
    "\n",
    "* meaning \"artificial intelligence\"\n",
    "* is a term that the computer scientist John McCarthy used at the Dartmouth Conference 1956.\n",
    "* It's really just a term to make the field sound more interesting.\n",
    "* Until today all, so-called AI-systems are simply based on pattern recognition by statistics\n",
    "* I wouldn't know of a good model for human intelligence, or even a definition. "
   ]
  },
  {
   "cell_type": "markdown",
   "id": "8c63234c-247d-4919-8d50-ce02ca7fccea",
   "metadata": {
    "slideshow": {
     "slide_type": "slide"
    }
   },
   "source": [
    "\n",
    "# Soft/weak vs. strong AI\n",
    "\n",
    "* These are terms that are often used without a clear definition \n",
    "* and they come from different traditions: \n",
    "    1) a philosophical one, meaning the difference between replicating the system vs. the signal, i.e. the allegory of the Chinese chamber\n",
    "    2) the difference between symbolic AI that works on intelligence models with expert knowledge vs. stochastic AI that uses data to detect underlying problem solving strategies  \n",
    "    3) what is usually meant in the current discussion with these terms is the distinction between a general AI that learns underlying principles to solve a number of problems, some of them even yet unknown, vs. a specialized AI that is focused on one problem, e.g. playing chess or driving a car. "
   ]
  },
  {
   "cell_type": "markdown",
   "id": "2903d15a",
   "metadata": {
    "slideshow": {
     "slide_type": "slide"
    }
   },
   "source": [
    "# How does it work in general? \n",
    "-> learning from training data"
   ]
  },
  {
   "cell_type": "markdown",
   "id": "38c4214b",
   "metadata": {
    "slideshow": {
     "slide_type": "slide"
    }
   },
   "source": [
    "# Supervised or not? \n",
    "* Main distintions for machine learning\n",
    "* learning by example (Supervised)\n",
    "* Unsupervised\n",
    "    * clustering\n",
    "    * representation learning/ Self-Supervised\n",
    "* learning by interaction -> Reinforcement Learning"
   ]
  },
  {
   "cell_type": "markdown",
   "id": "d8a62938",
   "metadata": {
    "slideshow": {
     "slide_type": "slide"
    }
   },
   "source": [
    "# Deep learning\n",
    "* is a fuzzy expression connected with artificial neural nets. \n",
    "* What mostly is meant, is that the number of hidden layers (all layers apart from in- and output layer) is rather deep, but it remains unclear how many layers are needed. \n",
    "* Another interpretation that deep learning refers to the raising level of abstraction of the hidden layers from raw input to abstract labels \n",
    "    * (e.g. picture pixels to animal names), especially with CNNs. \n",
    "    * For example, in the early layers mainly edges and contours are represented, \n",
    "    * in the later layers complex objects like beaks or eyes."
   ]
  },
  {
   "cell_type": "markdown",
   "id": "2e6b0759",
   "metadata": {
    "slideshow": {
     "slide_type": "slide"
    }
   },
   "source": [
    "# Classification vs. Regression\n",
    "* Means the difference if you want to \n",
    "    * predict on class/category out of a set of limited possibilities (classification) \n",
    "    * or a real value (in case of regression). \n",
    "* Regression problems can be converted to classification by binning and \n",
    "* classification to regression (in case the classes can be ordered by some criterion) with interpolation."
   ]
  }
 ],
 "metadata": {
  "celltoolbar": "Slideshow",
  "kernelspec": {
   "display_name": "Python 3 (ipykernel)",
   "language": "python",
   "name": "python3"
  },
  "language_info": {
   "codemirror_mode": {
    "name": "ipython",
    "version": 3
   },
   "file_extension": ".py",
   "mimetype": "text/x-python",
   "name": "python",
   "nbconvert_exporter": "python",
   "pygments_lexer": "ipython3",
   "version": "3.8.10"
  }
 },
 "nbformat": 4,
 "nbformat_minor": 5
}
