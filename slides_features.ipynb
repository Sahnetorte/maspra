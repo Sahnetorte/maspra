{
 "cells": [
  {
   "cell_type": "markdown",
   "id": "1a6cf684",
   "metadata": {
    "slideshow": {
     "slide_type": "slide"
    }
   },
   "source": [
    "# Different acoustic features\n",
    "* gives an overview on popular acoustic features.\n",
    "* Lots of site on the internet give great detail on this and you should take a few minuted to check them out.\n"
   ]
  },
  {
   "cell_type": "markdown",
   "id": "894c84d9",
   "metadata": {
    "slideshow": {
     "slide_type": "slide"
    }
   },
   "source": [
    "# Expert features\n",
    "* features hand selected by domain experts, i.e. people who know about speech\n",
    "\n",
    "[**Nkululeko** exercise: inspect them 1](http://blog.syntheticspeech.de/2023/02/20/nkululeko-show-feature-importance/)\n",
    "[**Nkululeko** exercise: inspect them 2](http://blog.syntheticspeech.de/2023/02/16/nkululeko-how-to-plot-distributions-of-feature-values/)"
   ]
  },
  {
   "cell_type": "markdown",
   "id": "1218e808",
   "metadata": {
    "slideshow": {
     "slide_type": "subslide"
    }
   },
   "source": [
    "## openSmile"
   ]
  },
  {
   "cell_type": "markdown",
   "id": "26c6ce97",
   "metadata": {
    "slideshow": {
     "slide_type": "subslide"
    }
   },
   "source": [
    "## Praat"
   ]
  },
  {
   "cell_type": "markdown",
   "id": "cf57b8f6",
   "metadata": {
    "slideshow": {
     "slide_type": "slide"
    }
   },
   "source": [
    "# Learned features\n",
    "* features that are the result of a training with an ANN\n",
    "* a form of **representation learning**\n",
    "* also called *embeddings*\n",
    "* but of course every representation is a feature, i.e. any result of an ANN\n",
    "\n",
    "[**Nkululeko** exercise: visualize them](http://blog.syntheticspeech.de/2023/04/20/nkululeko-visualize-clusters-of-your-acoustic-features/)"
   ]
  },
  {
   "cell_type": "markdown",
   "id": "1a4d3721",
   "metadata": {
    "slideshow": {
     "slide_type": "subslide"
    }
   },
   "source": [
    "## Wav2vec2"
   ]
  },
  {
   "cell_type": "markdown",
   "id": "c19395e6",
   "metadata": {
    "slideshow": {
     "slide_type": "subslide"
    }
   },
   "source": [
    "## TRILL"
   ]
  },
  {
   "cell_type": "markdown",
   "id": "808f90b2",
   "metadata": {
    "slideshow": {
     "slide_type": "subslide"
    }
   },
   "source": [
    "## huBERT"
   ]
  },
  {
   "cell_type": "markdown",
   "id": "59a919d8",
   "metadata": {
    "slideshow": {
     "slide_type": "subslide"
    }
   },
   "source": [
    "## WavLM"
   ]
  },
  {
   "cell_type": "markdown",
   "id": "fbf555f3",
   "metadata": {
    "slideshow": {
     "slide_type": "subslide"
    }
   },
   "source": [
    "## CLAP"
   ]
  },
  {
   "cell_type": "markdown",
   "id": "80d2a392",
   "metadata": {
    "slideshow": {
     "slide_type": "subslide"
    }
   },
   "source": [
    "## audmodel"
   ]
  },
  {
   "cell_type": "markdown",
   "id": "5406bf90",
   "metadata": {
    "slideshow": {
     "slide_type": "subslide"
    }
   },
   "source": [
    "## SNR, MOS, PESQ, SDR"
   ]
  },
  {
   "cell_type": "markdown",
   "id": "ca4c2dc9",
   "metadata": {},
   "source": [
    "# Other representations\n",
    "* e.g. raw input in time or frequency domain"
   ]
  },
  {
   "cell_type": "markdown",
   "id": "d1e56db8",
   "metadata": {},
   "source": [
    "## Spectra"
   ]
  }
 ],
 "metadata": {
  "celltoolbar": "Slideshow",
  "kernelspec": {
   "display_name": "Python 3 (ipykernel)",
   "language": "python",
   "name": "python3"
  },
  "language_info": {
   "codemirror_mode": {
    "name": "ipython",
    "version": 3
   },
   "file_extension": ".py",
   "mimetype": "text/x-python",
   "name": "python",
   "nbconvert_exporter": "python",
   "pygments_lexer": "ipython3",
   "version": "3.8.10"
  }
 },
 "nbformat": 4,
 "nbformat_minor": 5
}
