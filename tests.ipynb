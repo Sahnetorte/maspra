{
 "cells": [
  {
   "cell_type": "code",
   "execution_count": 2,
   "metadata": {},
   "outputs": [],
   "source": [
    "import pandas as pd\n",
    "import audformat\n",
    "import auvad"
   ]
  },
  {
   "cell_type": "code",
   "execution_count": 13,
   "metadata": {},
   "outputs": [],
   "source": [
    "df = audformat.utils.read_csv('databases/tub-age2/data.csv')\n",
    "root = 'databases/tub-age2/age_files/'\n",
    "df = df.set_index(df.index.map(lambda x: root+x))\n"
   ]
  },
  {
   "cell_type": "code",
   "execution_count": 14,
   "metadata": {},
   "outputs": [
    {
     "data": {
      "text/html": [
       "<div>\n",
       "<style scoped>\n",
       "    .dataframe tbody tr th:only-of-type {\n",
       "        vertical-align: middle;\n",
       "    }\n",
       "\n",
       "    .dataframe tbody tr th {\n",
       "        vertical-align: top;\n",
       "    }\n",
       "\n",
       "    .dataframe thead th {\n",
       "        text-align: right;\n",
       "    }\n",
       "</style>\n",
       "<table border=\"1\" class=\"dataframe\">\n",
       "  <thead>\n",
       "    <tr style=\"text-align: right;\">\n",
       "      <th></th>\n",
       "      <th>speaker</th>\n",
       "      <th>gender</th>\n",
       "      <th>age</th>\n",
       "      <th>language</th>\n",
       "    </tr>\n",
       "    <tr>\n",
       "      <th>file</th>\n",
       "      <th></th>\n",
       "      <th></th>\n",
       "      <th></th>\n",
       "      <th></th>\n",
       "    </tr>\n",
       "  </thead>\n",
       "  <tbody>\n",
       "    <tr>\n",
       "      <th>databases/tub-age2/age_files/Sebastian/seb10_m...</th>\n",
       "      <td>seb10_m_28</td>\n",
       "      <td>male</td>\n",
       "      <td>28</td>\n",
       "      <td>de-de</td>\n",
       "    </tr>\n",
       "    <tr>\n",
       "      <th>databases/tub-age2/age_files/Sebastian/seb11_m...</th>\n",
       "      <td>seb11_m_27</td>\n",
       "      <td>male</td>\n",
       "      <td>27</td>\n",
       "      <td>de-de</td>\n",
       "    </tr>\n",
       "    <tr>\n",
       "      <th>databases/tub-age2/age_files/Sebastian/seb12_m...</th>\n",
       "      <td>seb12_m_30</td>\n",
       "      <td>male</td>\n",
       "      <td>30</td>\n",
       "      <td>de-de</td>\n",
       "    </tr>\n",
       "    <tr>\n",
       "      <th>databases/tub-age2/age_files/Sebastian/seb13_f...</th>\n",
       "      <td>seb13_f_32</td>\n",
       "      <td>female</td>\n",
       "      <td>32</td>\n",
       "      <td>de-de</td>\n",
       "    </tr>\n",
       "    <tr>\n",
       "      <th>databases/tub-age2/age_files/Sebastian/seb14_m...</th>\n",
       "      <td>seb14_m_34</td>\n",
       "      <td>male</td>\n",
       "      <td>34</td>\n",
       "      <td>de-de</td>\n",
       "    </tr>\n",
       "  </tbody>\n",
       "</table>\n",
       "</div>"
      ],
      "text/plain": [
       "                                                      speaker  gender  age  \\\n",
       "file                                                                         \n",
       "databases/tub-age2/age_files/Sebastian/seb10_m...  seb10_m_28    male   28   \n",
       "databases/tub-age2/age_files/Sebastian/seb11_m...  seb11_m_27    male   27   \n",
       "databases/tub-age2/age_files/Sebastian/seb12_m...  seb12_m_30    male   30   \n",
       "databases/tub-age2/age_files/Sebastian/seb13_f...  seb13_f_32  female   32   \n",
       "databases/tub-age2/age_files/Sebastian/seb14_m...  seb14_m_34    male   34   \n",
       "\n",
       "                                                  language  \n",
       "file                                                        \n",
       "databases/tub-age2/age_files/Sebastian/seb10_m...    de-de  \n",
       "databases/tub-age2/age_files/Sebastian/seb11_m...    de-de  \n",
       "databases/tub-age2/age_files/Sebastian/seb12_m...    de-de  \n",
       "databases/tub-age2/age_files/Sebastian/seb13_f...    de-de  \n",
       "databases/tub-age2/age_files/Sebastian/seb14_m...    de-de  "
      ]
     },
     "execution_count": 14,
     "metadata": {},
     "output_type": "execute_result"
    }
   ],
   "source": [
    "df.head()"
   ]
  },
  {
   "cell_type": "code",
   "execution_count": 15,
   "metadata": {},
   "outputs": [],
   "source": [
    "def seg_df(df):\n",
    "    v = auvad.Vad()\n",
    "    df_ret = pd.DataFrame()\n",
    "    fields_to_copy = df.columns\n",
    "    for index, row in df.iterrows():\n",
    "        seg_df = v.vad(index)\n",
    "        for f in fields_to_copy:\n",
    "            seg_df[f] = row[f]\n",
    "        df_ret = pd.concat((df_ret, seg_df))\n",
    "    return df_ret"
   ]
  },
  {
   "cell_type": "code",
   "execution_count": 16,
   "metadata": {},
   "outputs": [],
   "source": [
    "df_seg = seg_df(df)"
   ]
  },
  {
   "cell_type": "code",
   "execution_count": 17,
   "metadata": {},
   "outputs": [
    {
     "data": {
      "text/html": [
       "<div>\n",
       "<style scoped>\n",
       "    .dataframe tbody tr th:only-of-type {\n",
       "        vertical-align: middle;\n",
       "    }\n",
       "\n",
       "    .dataframe tbody tr th {\n",
       "        vertical-align: top;\n",
       "    }\n",
       "\n",
       "    .dataframe thead th {\n",
       "        text-align: right;\n",
       "    }\n",
       "</style>\n",
       "<table border=\"1\" class=\"dataframe\">\n",
       "  <thead>\n",
       "    <tr style=\"text-align: right;\">\n",
       "      <th></th>\n",
       "      <th></th>\n",
       "      <th></th>\n",
       "      <th>channel</th>\n",
       "      <th>speaker</th>\n",
       "      <th>gender</th>\n",
       "      <th>age</th>\n",
       "      <th>language</th>\n",
       "    </tr>\n",
       "    <tr>\n",
       "      <th>file</th>\n",
       "      <th>start</th>\n",
       "      <th>end</th>\n",
       "      <th></th>\n",
       "      <th></th>\n",
       "      <th></th>\n",
       "      <th></th>\n",
       "      <th></th>\n",
       "    </tr>\n",
       "  </thead>\n",
       "  <tbody>\n",
       "    <tr>\n",
       "      <th rowspan=\"2\" valign=\"top\">databases/tub-age2/age_files/Sebastian/seb10_m...</th>\n",
       "      <th>0 days 00:00:00.660000</th>\n",
       "      <th>0 days 00:00:05.600000</th>\n",
       "      <td>0</td>\n",
       "      <td>seb10_m_28</td>\n",
       "      <td>male</td>\n",
       "      <td>28</td>\n",
       "      <td>de-de</td>\n",
       "    </tr>\n",
       "    <tr>\n",
       "      <th>0 days 00:00:06.780000</th>\n",
       "      <th>0 days 00:00:13.740000</th>\n",
       "      <td>0</td>\n",
       "      <td>seb10_m_28</td>\n",
       "      <td>male</td>\n",
       "      <td>28</td>\n",
       "      <td>de-de</td>\n",
       "    </tr>\n",
       "  </tbody>\n",
       "</table>\n",
       "</div>"
      ],
      "text/plain": [
       "                                                                                                 channel  \\\n",
       "file                                              start                  end                               \n",
       "databases/tub-age2/age_files/Sebastian/seb10_m... 0 days 00:00:00.660000 0 days 00:00:05.600000        0   \n",
       "                                                  0 days 00:00:06.780000 0 days 00:00:13.740000        0   \n",
       "\n",
       "                                                                                                    speaker  \\\n",
       "file                                              start                  end                                  \n",
       "databases/tub-age2/age_files/Sebastian/seb10_m... 0 days 00:00:00.660000 0 days 00:00:05.600000  seb10_m_28   \n",
       "                                                  0 days 00:00:06.780000 0 days 00:00:13.740000  seb10_m_28   \n",
       "\n",
       "                                                                                                gender  \\\n",
       "file                                              start                  end                             \n",
       "databases/tub-age2/age_files/Sebastian/seb10_m... 0 days 00:00:00.660000 0 days 00:00:05.600000   male   \n",
       "                                                  0 days 00:00:06.780000 0 days 00:00:13.740000   male   \n",
       "\n",
       "                                                                                                 age  \\\n",
       "file                                              start                  end                           \n",
       "databases/tub-age2/age_files/Sebastian/seb10_m... 0 days 00:00:00.660000 0 days 00:00:05.600000   28   \n",
       "                                                  0 days 00:00:06.780000 0 days 00:00:13.740000   28   \n",
       "\n",
       "                                                                                                language  \n",
       "file                                              start                  end                              \n",
       "databases/tub-age2/age_files/Sebastian/seb10_m... 0 days 00:00:00.660000 0 days 00:00:05.600000    de-de  \n",
       "                                                  0 days 00:00:06.780000 0 days 00:00:13.740000    de-de  "
      ]
     },
     "execution_count": 17,
     "metadata": {},
     "output_type": "execute_result"
    }
   ],
   "source": [
    "df_seg.head(2)"
   ]
  },
  {
   "cell_type": "code",
   "execution_count": 18,
   "metadata": {},
   "outputs": [],
   "source": [
    "df_seg.to_csv('databases/tub-age2/data_seg.csv')"
   ]
  },
  {
   "cell_type": "code",
   "execution_count": null,
   "metadata": {},
   "outputs": [],
   "source": []
  }
 ],
 "metadata": {
  "kernelspec": {
   "display_name": "venv",
   "language": "python",
   "name": "python3"
  },
  "language_info": {
   "codemirror_mode": {
    "name": "ipython",
    "version": 3
   },
   "file_extension": ".py",
   "mimetype": "text/x-python",
   "name": "python",
   "nbconvert_exporter": "python",
   "pygments_lexer": "ipython3",
   "version": "3.8.10"
  }
 },
 "nbformat": 4,
 "nbformat_minor": 2
}
